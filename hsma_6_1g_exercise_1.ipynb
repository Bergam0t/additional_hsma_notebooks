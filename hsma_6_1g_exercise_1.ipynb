{
 "cells": [
  {
   "cell_type": "markdown",
   "metadata": {},
   "source": [
    "# HSMA 1G - Exercise 1"
   ]
  },
  {
   "cell_type": "markdown",
   "metadata": {},
   "source": [
    "You’re now going to practice OOP.  \n",
    "\n",
    "You will work in your groups to translate the following class description into Python.  \n",
    "\n",
    "You have 45 minutes + 10 minute break.\n",
    "\n",
    "---\n",
    "\n",
    "#### CLASS : Patient\n",
    "##### Attributes\n",
    "- name : string\n",
    "- patient_id : integer\n",
    "-  age : integer\n",
    "- cured : boolean (default = False)\n",
    "\n",
    "##### Methods\n",
    "\n",
    "- attend_ed (mean_time : float)\n",
    "- receive_treatment (prob_cure : float)\n",
    "\n",
    "---\n",
    "\n",
    "### Details\n",
    "\n",
    "**attend_ed** should randomly sample a time for the patient to remain in the ED from an exponential distribution, based on the mean time passed in.  \n",
    "\n",
    "To sample from an exponential distribution, use the expovariate method of the random library, and pass in as input 1 / mean - this will return a randomly sampled value.  \n",
    "\n",
    "The method should also print a message giving\n",
    "- the patient’s name\n",
    "- their ID\n",
    "- how long they spent in the ED (ie the value sampled randomly).\n",
    "\n",
    "\n",
    "---\n",
    "\n",
    "**receive_treatment** should randomly determine if the patient is cured or not, based on the probability passed in.  \n",
    "\n",
    "Use the uniform method of the random library to sample a number between 0 and 1, and compare that number to the probability to see whether or not the patient is cured (think about it…).  \n",
    "\n",
    "If they are cured, the patient’s cured attribute should be updated appropriately.  Either way, a message should be printed indicating whether they were cured or not.\n",
    "\n",
    "---\n",
    "\n",
    "All attributes of the patient are provided at instantiation, except for cured, which should default to False for all new patients. \n",
    "\n",
    "---\n",
    "\n",
    "Once defined, create some patients, get them to attend ED, and receive treatment.\n"
   ]
  },
  {
   "cell_type": "code",
   "execution_count": null,
   "metadata": {},
   "outputs": [],
   "source": []
  }
 ],
 "metadata": {
  "language_info": {
   "name": "python"
  }
 },
 "nbformat": 4,
 "nbformat_minor": 2
}
