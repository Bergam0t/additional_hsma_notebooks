{
 "cells": [
  {
   "cell_type": "markdown",
   "metadata": {},
   "source": [
    "# HSMA 1G - Exercise 3 "
   ]
  },
  {
   "cell_type": "markdown",
   "metadata": {},
   "source": [
    "In your groups, you now have 40 minutes (+ 10 minute break) to undertake the following using MatPlotLib.\n",
    "\n",
    "---\n",
    "\n"
   ]
  },
  {
   "cell_type": "markdown",
   "metadata": {},
   "source": [
    "## Task 1\n",
    "\n",
    "Generate a scatterplot of age vs fare paid for passengers in the Titanic data.  \n",
    "\n",
    "Ensure you label each axis appropriately.  \n",
    "\n",
    "You have been supplied with the Titanic data .csv again for this session.  \n",
    "\n",
    "It’s recommended you read the data into a Pandas DataFrame.\n",
    "\n",
    "If you are on colab, you can use"
   ]
  },
  {
   "cell_type": "markdown",
   "metadata": {},
   "source": [
    "`pd.read_csv(\"https://raw.githubusercontent.com/hsma-programme/h6_1g_python_part_3/main/1g_python_programming_part_3/titanic_dataset.csv\")`\n"
   ]
  },
  {
   "cell_type": "markdown",
   "metadata": {},
   "source": [
    "Don't forget to import pandas using the alias pd. "
   ]
  },
  {
   "cell_type": "code",
   "execution_count": null,
   "metadata": {},
   "outputs": [],
   "source": []
  },
  {
   "cell_type": "markdown",
   "metadata": {},
   "source": [
    "## Task 2\n",
    "\n",
    "Generate a histogram of ages for passengers in the Titanic data with 50 bins.  \n",
    "\n",
    "You’ll need to look at the MatPlotLib information on how to generate a Histogram.  \n",
    "\n",
    "You should look in the “Examples” section for (plain) histograms.  \n",
    "\n",
    "The example given will plot a histogram of random samples from a Normal Distribution, and will also have two plots in one figure.  You don’t need either of these things, so just pick out what you need from the example.  \n",
    "\n",
    "Label each axis appropriately.\n",
    "\n"
   ]
  },
  {
   "cell_type": "code",
   "execution_count": null,
   "metadata": {},
   "outputs": [],
   "source": []
  },
  {
   "cell_type": "markdown",
   "metadata": {},
   "source": [
    "## Task 3\n",
    "\n",
    "You have been supplied with a file named meds_used_per_day.csv, which contains the results from a simulation model.  \n",
    "\n",
    "Specifically, it lists the total number of medications used across a palliative nursing team per day for 28 days for 3 runs (repeats) of the simulation.  \n",
    "\n",
    "Plot a line graph with three plots (one for each run of the simulation), plotting day number (1-28) on the x-axis against total medications used on the y-axis.  \n",
    "\n",
    "Label each axis appropriately.  \n",
    "\n",
    "Each line should be a different colour and a different style to the other lines (don’t forget to consult the cheatsheets here : https://matplotlib.org/cheatsheets/).  \n",
    "\n",
    "You should also include a legend that should be located in the top right corner of the plot.\n"
   ]
  },
  {
   "cell_type": "markdown",
   "metadata": {},
   "source": [
    "`pd.read_csv(\"https://raw.githubusercontent.com/hsma-programme/h6_1g_python_part_3/main/1g_python_programming_part_3/meds_used_per_day.csv\")`"
   ]
  },
  {
   "cell_type": "code",
   "execution_count": null,
   "metadata": {},
   "outputs": [],
   "source": []
  },
  {
   "cell_type": "markdown",
   "metadata": {},
   "source": [
    "## If you finish...\n",
    "\n",
    "If you manage to finish all this, and nobody needs any help, generate some further plots of your choosing from the Titanic data."
   ]
  },
  {
   "cell_type": "code",
   "execution_count": null,
   "metadata": {},
   "outputs": [],
   "source": []
  }
 ],
 "metadata": {
  "kernelspec": {
   "display_name": "base",
   "language": "python",
   "name": "python3"
  },
  "language_info": {
   "codemirror_mode": {
    "name": "ipython",
    "version": 3
   },
   "file_extension": ".py",
   "mimetype": "text/x-python",
   "name": "python",
   "nbconvert_exporter": "python",
   "pygments_lexer": "ipython3",
   "version": "3.11.7"
  }
 },
 "nbformat": 4,
 "nbformat_minor": 2
}
