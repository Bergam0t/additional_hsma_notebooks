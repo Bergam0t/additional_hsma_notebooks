{
 "cells": [
  {
   "cell_type": "markdown",
   "metadata": {},
   "source": [
    "# HSMA 2B - Exercise 1"
   ]
  },
  {
   "cell_type": "markdown",
   "metadata": {},
   "source": [
    " Your task, as a group, is to build a Discrete Event Simulation model of the following GP surgery."
   ]
  },
  {
   "cell_type": "markdown",
   "metadata": {},
   "source": [
    "![](https://github.com/Bergam0t/additional_hsma_notebooks/raw/main/assets/2024-05-28-08-59-52.png)"
   ]
  },
  {
   "cell_type": "markdown",
   "metadata": {},
   "source": [
    "Patients \n",
    " - arrive into the GP surgery around every 3 minutes \n",
    " - spend around 2 minutes being registered \n",
    " - and then around 8 minutes with the GP.  \n",
    " \n",
    " Around a quarter of patients need to book a test at reception after they’ve seen the GP, and this takes around 4 minutes.  \n",
    " \n",
    " In addition to registering patients and booking tests, receptionists also answer incoming calls, which come in around every 10 minutes and last about 4 minutes."
   ]
  },
  {
   "cell_type": "markdown",
   "metadata": {},
   "source": [
    "The surgery currently has 1 receptionist and 2 GPs.  They feel there is a problem in their system as they are receiving complaints about lengthy delays both from patients and callers.  \n",
    "\n",
    "They want you to build a simulation model to find out what’s happening and propose some solutions.  \n",
    "\n",
    "Your model should represent a “day in the life” of the surgery, which is open to both in-person patients and telephone callers for 8 hours continuously.\n",
    "\n",
    "Your trial should be at least 100 runs of the simulation.  \n",
    "\n",
    "In terms of outputs, the surgery is only interested in queuing times for each of the queues in the system (you don’t need to worry about storing sampled activity times for example), but they would like to look at the results for patients and callers separately.  You should give them mean results as a minimum, but you may consider providing additional results too if you have time.\n",
    "\n",
    "You also need to calculate and provide them with the mean queuing times across the trial (eg mean queue for registration across all runs, for GP etc - so four numbers that you would report).  You’ll need a new method in your Trial class to calculate this.  You should find this a helpful output, as it’ll help you compare scenarios easily.  Report these means to 1 decimal place.\n",
    "\n",
    "Once you’ve built the model, use it to a) identify where you think the problem is, and b) proposals for how you would fix it (this can include anything you like - they are open to suggestions - more resources, changes to processes to cut activity times, having the GP book the test, anything you can think of!  Try different things, different solutions.  \n",
    "                                                                                                                              \n",
    "*Tip - take a copy of the original working file for the base case scenario first :)*\n"
   ]
  },
  {
   "cell_type": "code",
   "execution_count": null,
   "metadata": {},
   "outputs": [],
   "source": [
    "# Run this code cell first to install simpy into colab, then import it\n",
    "# (and any other packages you need) as normal\n",
    "# pandas and numpy are preinstalled on colab so don't need to be installed like simpy\n",
    "!pip install simpy"
   ]
  },
  {
   "cell_type": "code",
   "execution_count": null,
   "metadata": {},
   "outputs": [],
   "source": []
  }
 ],
 "metadata": {
  "language_info": {
   "name": "python"
  }
 },
 "nbformat": 4,
 "nbformat_minor": 2
}
