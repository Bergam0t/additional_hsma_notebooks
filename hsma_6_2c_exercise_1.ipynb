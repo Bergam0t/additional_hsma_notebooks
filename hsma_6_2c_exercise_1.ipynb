{
 "cells": [
  {
   "cell_type": "markdown",
   "metadata": {},
   "source": [
    "# HSMA 2C - Exercise 1"
   ]
  },
  {
   "cell_type": "markdown",
   "metadata": {},
   "source": [
    "In this session we’ve looked at how we can implement the following DES features in SimPy :\n",
    "\n",
    "- Simulation warm-up\n",
    "- Priority-based queuing\n",
    "- Resource unavailability\n",
    "- Use of the Lognormal distribution for activity times\n",
    "- Reneging\n",
    "- Balking\n",
    "- Plotting queues over time\n",
    "- Entities choosing queues based on queue length\n",
    "\n",
    "After a 10 minute break, you will work in your groups to design and build a DES model in SimPy that uses at least four of the features above.   The model can be of anything you like - you may choose to try to build the conceptual model you designed in session 2A, or you might choose something completely different.\n",
    "\n",
    "You should work as a team, with one of you sharing screen with the main code, and everyone contributing.  You have 90 minutes (after the 10 minute break), and when we come back we’ll ask each group to present their models, with Sammi judging the top three for those all important PSG points!\n"
   ]
  },
  {
   "cell_type": "code",
   "execution_count": null,
   "metadata": {},
   "outputs": [],
   "source": [
    "# Run this code cell first to install simpy into colab, then import it\n",
    "# (and any other packages you need) as normal\n",
    "# pandas and numpy are preinstalled on colab so don't need to be installed like simpy\n",
    "!pip install simpy"
   ]
  },
  {
   "cell_type": "code",
   "execution_count": null,
   "metadata": {},
   "outputs": [],
   "source": []
  }
 ],
 "metadata": {
  "language_info": {
   "name": "python"
  }
 },
 "nbformat": 4,
 "nbformat_minor": 2
}
