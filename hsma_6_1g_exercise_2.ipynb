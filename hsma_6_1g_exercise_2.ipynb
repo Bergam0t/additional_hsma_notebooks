{
 "cells": [
  {
   "cell_type": "markdown",
   "metadata": {},
   "source": [
    "# HSMA 1G - Exercise 2"
   ]
  },
  {
   "cell_type": "markdown",
   "metadata": {},
   "source": [
    "In your groups, translate the following description into an object oriented framework.  \n",
    "\n",
    "--- \n",
    "You are setting up a model for a local trust that runs a number of different clinics.  To begin with, they’d like you to develop a proof of concept that models some of the functionality of weight loss clinics and sexual health clinics.\n",
    "\n",
    "- All of the organisation’s clinics have a clinic name and a list of staff who work there.  \n",
    "- Any clinic can open or close (and the model will need to be able to record whether the clinic is open or closed)\n",
    "- There should be a means of displaying all the members of staff who work at the clinic.\n",
    "\n",
    "**Weight Loss Clinics** also have a lead nurse, which should be recorded, and sometimes this person isn’t already on the staff list.  There should be a way to check if they are, and if they’re not, to add them.\n",
    "\n",
    "**Sexual Health Clinics** have the facility to book tests in the clinic’s appointment book, which records a patient’s name against their appointment time.  You should also build in functionality to display the entries in the appointment book.\n",
    "\n",
    "---\n",
    "\n",
    "Once you’ve built the proof of concept described above, create a couple of new weight loss clinics - one in Cornwall, and one in Devon, with lists of staff, and a lead nurse.  \n",
    "\n",
    "Test the functionality of checking whether a given lead nurse is in the list of staff or not.  \n",
    "\n",
    "Also, create a sexual health clinic in Cornwall, and book in an appointment for Jessica Fletcher at 1100.  \n",
    "\n",
    "Check the functionality for displaying the appointment book too.\n",
    "\n",
    "---\n",
    "\n",
    "You have 50 minutes, and you should work together as a group on this task.  There is no single correct approach for this - this will also develop your skills in designing code for a purpose.\n"
   ]
  },
  {
   "cell_type": "code",
   "execution_count": null,
   "metadata": {},
   "outputs": [],
   "source": []
  }
 ],
 "metadata": {
  "language_info": {
   "name": "python"
  }
 },
 "nbformat": 4,
 "nbformat_minor": 2
}
